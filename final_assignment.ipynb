{
 "cells": [
  {
   "cell_type": "code",
   "execution_count": 2,
   "id": "e1b0ccda",
   "metadata": {},
   "outputs": [
    {
     "name": "stdout",
     "output_type": "stream",
     "text": [
      "Defaulting to user installation because normal site-packages is not writeable\n",
      "\u001b[31mERROR: Could not find a version that satisfies the requirement sqlite3 (from versions: none)\u001b[0m\u001b[31m\n",
      "\u001b[0m\u001b[31mERROR: No matching distribution found for sqlite3\u001b[0m\u001b[31m\n",
      "\u001b[0m"
     ]
    }
   ],
   "source": [
    "! pip3 install sqlite3"
   ]
  },
  {
   "cell_type": "code",
   "execution_count": 7,
   "id": "61317bde",
   "metadata": {},
   "outputs": [
    {
     "name": "stdout",
     "output_type": "stream",
     "text": [
      "Available tables:\n",
      "      name\n",
      "0  Movies\n",
      "Table 'movies' exported to 'movies.csv'\n"
     ]
    }
   ],
   "source": [
    "import sqlite3\n",
    "import pandas as pd\n",
    "\n",
    "# Path to your SQLite database file\n",
    "db_path = \"bollywood_movies.sqlite\"  # change this to your actual file name\n",
    "\n",
    "# Connect to the SQLite database\n",
    "conn = sqlite3.connect(db_path)\n",
    "\n",
    "# View available tables\n",
    "tables = pd.read_sql_query(\"SELECT name FROM sqlite_master WHERE type='table';\", conn)\n",
    "print(\"Available tables:\\n\", tables)\n",
    "\n",
    "# Choose a table to export (replace 'your_table_name' with an actual name from above)\n",
    "table_name = 'movies'\n",
    "\n",
    "# Load the table into a DataFrame\n",
    "df = pd.read_sql_query(f\"SELECT * FROM {table_name};\", conn)\n",
    "\n",
    "# Save to CSV\n",
    "df.to_csv(f\"{table_name}.csv\", index=False)\n",
    "\n",
    "# Close the connection\n",
    "conn.close()\n",
    "\n",
    "print(f\"Table '{table_name}' exported to '{table_name}.csv'\")\n"
   ]
  },
  {
   "cell_type": "code",
   "execution_count": 5,
   "id": "a9bcd6ea",
   "metadata": {},
   "outputs": [
    {
     "name": "stdout",
     "output_type": "stream",
     "text": [
      "Available tables:\n",
      "      name\n",
      "0  Movies\n",
      "\n",
      "Schema for table: Movies\n",
      "    cid                name     type  notnull dflt_value  pk\n",
      "0     0               index  INTEGER        0       None   0\n",
      "1     1             MovieID     TEXT        0       None   0\n",
      "2     2               Title     TEXT        0       None   0\n",
      "3     3            Director     TEXT        0       None   0\n",
      "4     4               Genre     TEXT        0       None   0\n",
      "5     5         ReleaseYear  INTEGER        0       None   0\n",
      "6     6     Budget (Crores)     REAL        0       None   0\n",
      "7     7  BoxOffice (Crores)     REAL        0       None   0\n",
      "8     8              Rating     REAL        0       None   0\n",
      "9     9  Duration (minutes)  INTEGER        0       None   0\n",
      "10   10           LeadActor     TEXT        0       None   0\n",
      "11   11         LeadActress     TEXT        0       None   0\n",
      "12   12            Language     TEXT        0       None   0\n",
      "13   13   ProductionCompany     TEXT        0       None   0\n"
     ]
    }
   ],
   "source": [
    "import sqlite3\n",
    "import pandas as pd\n",
    "\n",
    "# Connect to the SQLite database\n",
    "conn = sqlite3.connect(\"bollywood_movies.sqlite\")  # Replace with your actual file\n",
    "\n",
    "# List all available tables\n",
    "tables = pd.read_sql_query(\"SELECT name FROM sqlite_master WHERE type='table';\", conn)\n",
    "print(\"Available tables:\\n\", tables)\n",
    "\n",
    "# Optional: Loop through and print column names of each table\n",
    "for table in tables['name']:\n",
    "    print(f\"\\nSchema for table: {table}\")\n",
    "    schema = pd.read_sql_query(f\"PRAGMA table_info({table});\", conn)\n",
    "    print(schema)\n"
   ]
  },
  {
   "cell_type": "code",
   "execution_count": null,
   "id": "518ce7b6",
   "metadata": {},
   "outputs": [],
   "source": []
  }
 ],
 "metadata": {
  "kernelspec": {
   "display_name": "Python 3",
   "language": "python",
   "name": "python3"
  },
  "language_info": {
   "codemirror_mode": {
    "name": "ipython",
    "version": 3
   },
   "file_extension": ".py",
   "mimetype": "text/x-python",
   "name": "python",
   "nbconvert_exporter": "python",
   "pygments_lexer": "ipython3",
   "version": "3.10.12"
  }
 },
 "nbformat": 4,
 "nbformat_minor": 5
}
